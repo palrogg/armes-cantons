{
 "cells": [
  {
   "cell_type": "code",
   "execution_count": 1,
   "metadata": {},
   "outputs": [],
   "source": [
    "import pandas as pd\n",
    "import json"
   ]
  },
  {
   "cell_type": "code",
   "execution_count": 2,
   "metadata": {},
   "outputs": [],
   "source": [
    "df = pd.read_csv('https://docs.google.com/a/ringieraxelspringer.ch/spreadsheets/d/1kBD4JQivx59wc9L9zTVl-ZP-0WZ-V4x2ayR376sTaLE/export?format=csv&id=1kBD4JQivx59wc9L9zTVl-ZP-0WZ-V4x2ayR376sTaLE&gid=0')"
   ]
  },
  {
   "cell_type": "code",
   "execution_count": 3,
   "metadata": {},
   "outputs": [],
   "source": [
    "# only these 3 columns\n",
    "dff = df[['canton_fr', 'registered firearms', 'note']].copy()"
   ]
  },
  {
   "cell_type": "code",
   "execution_count": 4,
   "metadata": {},
   "outputs": [],
   "source": [
    "dff.columns = ['Canton', 'Armes enregistrées', 'Note']"
   ]
  },
  {
   "cell_type": "code",
   "execution_count": 5,
   "metadata": {},
   "outputs": [],
   "source": [
    "dff = dff[-dff['Canton'].isnull()].fillna(\"\")"
   ]
  },
  {
   "cell_type": "code",
   "execution_count": 6,
   "metadata": {},
   "outputs": [],
   "source": [
    "for i, row in dff.iterrows():\n",
    "    if row['Note'] == '(4)':\n",
    "        dff.at[i, 'Canton'] = row['Canton'] + '*'"
   ]
  },
  {
   "cell_type": "code",
   "execution_count": 7,
   "metadata": {},
   "outputs": [],
   "source": [
    "arrays = [list(i) for i in list(dff[['Canton', 'Armes enregistrées']].to_records(index=False))]\n",
    "jsondata = {\"data\": arrays}"
   ]
  },
  {
   "cell_type": "code",
   "execution_count": 8,
   "metadata": {},
   "outputs": [],
   "source": [
    "with open('display/data/cantons.json', 'w') as f:\n",
    "    json.dump(jsondata, fp=f, indent=True)"
   ]
  }
 ],
 "metadata": {
  "kernelspec": {
   "display_name": "Python 3",
   "language": "python",
   "name": "python3"
  },
  "language_info": {
   "codemirror_mode": {
    "name": "ipython",
    "version": 3
   },
   "file_extension": ".py",
   "mimetype": "text/x-python",
   "name": "python",
   "nbconvert_exporter": "python",
   "pygments_lexer": "ipython3",
   "version": "3.7.2"
  }
 },
 "nbformat": 4,
 "nbformat_minor": 2
}
